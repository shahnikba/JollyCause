{
 "cells": [
  {
   "cell_type": "code",
   "execution_count": 13,
   "id": "8082df25-b2d9-4417-ba16-44fa0602f9b0",
   "metadata": {},
   "outputs": [
    {
     "ename": "ModuleNotFoundError",
     "evalue": "No module named 'JollyCause'",
     "output_type": "error",
     "traceback": [
      "\u001b[0;31m---------------------------------------------------------------------------\u001b[0m",
      "\u001b[0;31mModuleNotFoundError\u001b[0m                       Traceback (most recent call last)",
      "Cell \u001b[0;32mIn[13], line 4\u001b[0m\n\u001b[1;32m      2\u001b[0m \u001b[38;5;28;01mimport\u001b[39;00m \u001b[38;5;21;01mstatsmodels\u001b[39;00m \u001b[38;5;28;01mas\u001b[39;00m \u001b[38;5;21;01mst\u001b[39;00m\n\u001b[1;32m      3\u001b[0m \u001b[38;5;28;01mimport\u001b[39;00m \u001b[38;5;21;01mnumpy\u001b[39;00m \u001b[38;5;28;01mas\u001b[39;00m \u001b[38;5;21;01mnp\u001b[39;00m\n\u001b[0;32m----> 4\u001b[0m \u001b[38;5;28;01mfrom\u001b[39;00m \u001b[38;5;21;01mJollyCause\u001b[39;00m \u001b[38;5;28;01mimport\u001b[39;00m ate_diff_mean\n",
      "\u001b[0;31mModuleNotFoundError\u001b[0m: No module named 'JollyCause'"
     ]
    }
   ],
   "source": [
    "import pandas as pd\n",
    "import statsmodels as st\n",
    "import numpy as np\n",
    "from JollyCause import ate_diff_mean"
   ]
  },
  {
   "cell_type": "code",
   "execution_count": 12,
   "id": "cb58e9e5-b333-4b86-ad04-45b27c9e70b7",
   "metadata": {},
   "outputs": [
    {
     "name": "stdout",
     "output_type": "stream",
     "text": [
      "Requirement already satisfied: JollyCause==0.0.1 from file:///home/shahram/Dev/JollyCause/JollyCause/dist/JollyCause-0.0.1-py3-none-any.whl in /home/shahram/Dev/JollyCause/JollyCause/jollycause/lib/python3.8/site-packages (0.0.1)\n"
     ]
    }
   ],
   "source": [
    "!pip3 install ~/Dev/JollyCause/JollyCause/dist/JollyCause-0.0.1-py3-none-any.whl"
   ]
  },
  {
   "cell_type": "code",
   "execution_count": 6,
   "id": "058d364c-4619-40e5-a8c7-d1dff5307722",
   "metadata": {},
   "outputs": [],
   "source": [
    "df = pd.read_csv(\"https://docs.google.com/uc?id=1AQva5-vDlgBcM_Tv9yrO8yMYRfQJgqo_&export=download\")"
   ]
  },
  {
   "cell_type": "code",
   "execution_count": 7,
   "id": "6a930b40-ece7-4f10-bc91-421d6fa209ed",
   "metadata": {},
   "outputs": [],
   "source": [
    "def simple_causality(df,w,y):\n",
    "    # Only valid in the randomized setting. Do not use in observational settings.\n",
    "    Y = df[y]\n",
    "    W = df[w]\n",
    "    ate_est = np.mean(Y[W == 1]) - np.mean(Y[W == 0])\n",
    "    ate_se = np.sqrt(np.var(Y[W == 1]) / sum(W == 1) + np.var(Y[W == 0]) / sum(W == 0))\n",
    "    ate_tstat = ate_est / ate_se\n",
    "    ate_pvalue = 2 * (1 - np.abs(ate_est / ate_se))\n",
    "    ate_results = {\"estimate\": ate_est, \"std.error\": ate_se, \"t.stat\": ate_tstat, \"pvalue\": ate_pvalue}\n",
    "    print(ate_results)"
   ]
  },
  {
   "cell_type": "code",
   "execution_count": 8,
   "id": "424d7271-e4f8-4391-b4b2-7bf8975a55c2",
   "metadata": {},
   "outputs": [
    {
     "name": "stdout",
     "output_type": "stream",
     "text": [
      "{'estimate': -0.34601467006235814, 'std.error': 0.0048040700378862424, 't.stat': -72.02531756064951, 'pvalue': -142.05063512129902}\n"
     ]
    }
   ],
   "source": [
    "simple_causality(df, \"w\", \"y\")"
   ]
  },
  {
   "cell_type": "code",
   "execution_count": 10,
   "id": "6eb05f5d-90ff-4d25-b4df-e4492bedaeaf",
   "metadata": {},
   "outputs": [
    {
     "ename": "NameError",
     "evalue": "name 'ate_diff_mean' is not defined",
     "output_type": "error",
     "traceback": [
      "\u001b[0;31m---------------------------------------------------------------------------\u001b[0m",
      "\u001b[0;31mNameError\u001b[0m                                 Traceback (most recent call last)",
      "Cell \u001b[0;32mIn[10], line 1\u001b[0m\n\u001b[0;32m----> 1\u001b[0m \u001b[43mate_diff_mean\u001b[49m(df, \u001b[38;5;124m\"\u001b[39m\u001b[38;5;124mw\u001b[39m\u001b[38;5;124m\"\u001b[39m, \u001b[38;5;124m\"\u001b[39m\u001b[38;5;124my\u001b[39m\u001b[38;5;124m\"\u001b[39m)\n",
      "\u001b[0;31mNameError\u001b[0m: name 'ate_diff_mean' is not defined"
     ]
    }
   ],
   "source": [
    "ate_diff_mean(df, \"w\", \"y\")"
   ]
  },
  {
   "cell_type": "code",
   "execution_count": null,
   "id": "58d97635-7415-4406-b56c-29cfdee4c421",
   "metadata": {},
   "outputs": [],
   "source": []
  }
 ],
 "metadata": {
  "kernelspec": {
   "display_name": "Python 3 (ipykernel)",
   "language": "python",
   "name": "python3"
  },
  "language_info": {
   "codemirror_mode": {
    "name": "ipython",
    "version": 3
   },
   "file_extension": ".py",
   "mimetype": "text/x-python",
   "name": "python",
   "nbconvert_exporter": "python",
   "pygments_lexer": "ipython3",
   "version": "3.8.10"
  }
 },
 "nbformat": 4,
 "nbformat_minor": 5
}
