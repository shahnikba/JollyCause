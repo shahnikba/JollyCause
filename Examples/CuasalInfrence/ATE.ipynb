{
 "cells": [
  {
   "cell_type": "code",
   "execution_count": 5,
   "id": "8082df25-b2d9-4417-ba16-44fa0602f9b0",
   "metadata": {},
   "outputs": [],
   "source": [
    "import pandas as pd\n",
    "import statsmodels as st\n",
    "import numpy as np"
   ]
  },
  {
   "cell_type": "code",
   "execution_count": 6,
   "id": "cb58e9e5-b333-4b86-ad04-45b27c9e70b7",
   "metadata": {},
   "outputs": [],
   "source": [
    "## !pip3 install statsmodels"
   ]
  },
  {
   "cell_type": "code",
   "execution_count": 7,
   "id": "058d364c-4619-40e5-a8c7-d1dff5307722",
   "metadata": {},
   "outputs": [],
   "source": [
    "df = pd.read_csv(\"https://docs.google.com/uc?id=1AQva5-vDlgBcM_Tv9yrO8yMYRfQJgqo_&export=download\")"
   ]
  },
  {
   "cell_type": "code",
   "execution_count": 8,
   "id": "6a930b40-ece7-4f10-bc91-421d6fa209ed",
   "metadata": {},
   "outputs": [],
   "source": [
    "def simple_causality(df,w,y):\n",
    "    # Only valid in the randomized setting. Do not use in observational settings.\n",
    "    Y = df[y]\n",
    "    W = df[w]\n",
    "    ate_est = np.mean(Y[W == 1]) - np.mean(Y[W == 0])\n",
    "    ate_se = np.sqrt(np.var(Y[W == 1]) / sum(W == 1) + np.var(Y[W == 0]) / sum(W == 0))\n",
    "    ate_tstat = ate_est / ate_se\n",
    "    ate_pvalue = 2 * (1 - np.abs(ate_est / ate_se))\n",
    "    ate_results = {\"estimate\": ate_est, \"std.error\": ate_se, \"t.stat\": ate_tstat, \"pvalue\": ate_pvalue}\n",
    "    print(ate_results)"
   ]
  },
  {
   "cell_type": "code",
   "execution_count": 9,
   "id": "424d7271-e4f8-4391-b4b2-7bf8975a55c2",
   "metadata": {},
   "outputs": [
    {
     "name": "stdout",
     "output_type": "stream",
     "text": [
      "{'estimate': -0.34601467006235814, 'std.error': 0.0048040700378862424, 't.stat': -72.02531756064951, 'pvalue': -142.05063512129902}\n"
     ]
    }
   ],
   "source": [
    "simple_causality(df, \"w\", \"y\")"
   ]
  },
  {
   "cell_type": "code",
   "execution_count": null,
   "id": "6eb05f5d-90ff-4d25-b4df-e4492bedaeaf",
   "metadata": {},
   "outputs": [],
   "source": []
  }
 ],
 "metadata": {
  "kernelspec": {
   "display_name": "Python 3 (ipykernel)",
   "language": "python",
   "name": "python3"
  },
  "language_info": {
   "codemirror_mode": {
    "name": "ipython",
    "version": 3
   },
   "file_extension": ".py",
   "mimetype": "text/x-python",
   "name": "python",
   "nbconvert_exporter": "python",
   "pygments_lexer": "ipython3",
   "version": "3.10.13"
  }
 },
 "nbformat": 4,
 "nbformat_minor": 5
}
